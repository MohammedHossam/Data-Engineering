{
 "metadata": {
  "language_info": {
   "codemirror_mode": {
    "name": "ipython",
    "version": 3
   },
   "file_extension": ".py",
   "mimetype": "text/x-python",
   "name": "python",
   "nbconvert_exporter": "python",
   "pygments_lexer": "ipython3",
   "version": "3.8.3-final"
  },
  "orig_nbformat": 2,
  "kernelspec": {
   "name": "python38364bitbaseconda29460242cd00411b83bc74fbd37e9638",
   "display_name": "Python 3.8.3 64-bit ('base': conda)",
   "language": "python"
  }
 },
 "nbformat": 4,
 "nbformat_minor": 2,
 "cells": [
  {
   "source": [
    "# Merge the 5 tables of Happiness data into one Table"
   ],
   "cell_type": "markdown",
   "metadata": {}
  },
  {
   "cell_type": "code",
   "execution_count": 494,
   "metadata": {},
   "outputs": [],
   "source": [
    "import pandas as pd\n",
    "import os\n",
    "import copy"
   ]
  },
  {
   "source": [
    "### Read  data"
   ],
   "cell_type": "markdown",
   "metadata": {}
  },
  {
   "cell_type": "code",
   "execution_count": 495,
   "metadata": {},
   "outputs": [],
   "source": [
    "happinessRootPath = './data/Happiness_Dataset/'\n",
    "countryDataPath = './data/250 Country Data.csv'\n",
    "\n",
    "df_happiness_15 = pd.read_csv(happinessRootPath+\"/2015.csv\", index_col=0)\n",
    "df_happiness_16 = pd.read_csv(happinessRootPath+\"/2016.csv\", index_col=0)\n",
    "df_happiness_17 = pd.read_csv(happinessRootPath+\"/2017.csv\", index_col=0)\n",
    "df_happiness_18 = pd.read_csv(happinessRootPath+\"/2018.csv\", index_col=0)\n",
    "df_happiness_19 = pd.read_csv(happinessRootPath+\"/2019.csv\", index_col=0)\n",
    "\n",
    "df_country = pd.read_csv(countryDataPath, index_col=0)"
   ]
  },
  {
   "cell_type": "code",
   "execution_count": 496,
   "metadata": {},
   "outputs": [
    {
     "output_type": "execute_result",
     "data": {
      "text/plain": [
       "                     Region  Happiness Rank  Happiness Score  Standard Error  \\\n",
       "Country                                                                        \n",
       "Switzerland  Western Europe               1            7.587         0.03411   \n",
       "Iceland      Western Europe               2            7.561         0.04884   \n",
       "Denmark      Western Europe               3            7.527         0.03328   \n",
       "Norway       Western Europe               4            7.522         0.03880   \n",
       "Canada        North America               5            7.427         0.03553   \n",
       "\n",
       "             Economy (GDP per Capita)   Family  Health (Life Expectancy)  \\\n",
       "Country                                                                    \n",
       "Switzerland                   1.39651  1.34951                   0.94143   \n",
       "Iceland                       1.30232  1.40223                   0.94784   \n",
       "Denmark                       1.32548  1.36058                   0.87464   \n",
       "Norway                        1.45900  1.33095                   0.88521   \n",
       "Canada                        1.32629  1.32261                   0.90563   \n",
       "\n",
       "             Freedom  Trust (Government Corruption)  Generosity  \\\n",
       "Country                                                           \n",
       "Switzerland  0.66557                        0.41978     0.29678   \n",
       "Iceland      0.62877                        0.14145     0.43630   \n",
       "Denmark      0.64938                        0.48357     0.34139   \n",
       "Norway       0.66973                        0.36503     0.34699   \n",
       "Canada       0.63297                        0.32957     0.45811   \n",
       "\n",
       "             Dystopia Residual  \n",
       "Country                         \n",
       "Switzerland            2.51738  \n",
       "Iceland                2.70201  \n",
       "Denmark                2.49204  \n",
       "Norway                 2.46531  \n",
       "Canada                 2.45176  "
      ],
      "text/html": "<div>\n<style scoped>\n    .dataframe tbody tr th:only-of-type {\n        vertical-align: middle;\n    }\n\n    .dataframe tbody tr th {\n        vertical-align: top;\n    }\n\n    .dataframe thead th {\n        text-align: right;\n    }\n</style>\n<table border=\"1\" class=\"dataframe\">\n  <thead>\n    <tr style=\"text-align: right;\">\n      <th></th>\n      <th>Region</th>\n      <th>Happiness Rank</th>\n      <th>Happiness Score</th>\n      <th>Standard Error</th>\n      <th>Economy (GDP per Capita)</th>\n      <th>Family</th>\n      <th>Health (Life Expectancy)</th>\n      <th>Freedom</th>\n      <th>Trust (Government Corruption)</th>\n      <th>Generosity</th>\n      <th>Dystopia Residual</th>\n    </tr>\n    <tr>\n      <th>Country</th>\n      <th></th>\n      <th></th>\n      <th></th>\n      <th></th>\n      <th></th>\n      <th></th>\n      <th></th>\n      <th></th>\n      <th></th>\n      <th></th>\n      <th></th>\n    </tr>\n  </thead>\n  <tbody>\n    <tr>\n      <th>Switzerland</th>\n      <td>Western Europe</td>\n      <td>1</td>\n      <td>7.587</td>\n      <td>0.03411</td>\n      <td>1.39651</td>\n      <td>1.34951</td>\n      <td>0.94143</td>\n      <td>0.66557</td>\n      <td>0.41978</td>\n      <td>0.29678</td>\n      <td>2.51738</td>\n    </tr>\n    <tr>\n      <th>Iceland</th>\n      <td>Western Europe</td>\n      <td>2</td>\n      <td>7.561</td>\n      <td>0.04884</td>\n      <td>1.30232</td>\n      <td>1.40223</td>\n      <td>0.94784</td>\n      <td>0.62877</td>\n      <td>0.14145</td>\n      <td>0.43630</td>\n      <td>2.70201</td>\n    </tr>\n    <tr>\n      <th>Denmark</th>\n      <td>Western Europe</td>\n      <td>3</td>\n      <td>7.527</td>\n      <td>0.03328</td>\n      <td>1.32548</td>\n      <td>1.36058</td>\n      <td>0.87464</td>\n      <td>0.64938</td>\n      <td>0.48357</td>\n      <td>0.34139</td>\n      <td>2.49204</td>\n    </tr>\n    <tr>\n      <th>Norway</th>\n      <td>Western Europe</td>\n      <td>4</td>\n      <td>7.522</td>\n      <td>0.03880</td>\n      <td>1.45900</td>\n      <td>1.33095</td>\n      <td>0.88521</td>\n      <td>0.66973</td>\n      <td>0.36503</td>\n      <td>0.34699</td>\n      <td>2.46531</td>\n    </tr>\n    <tr>\n      <th>Canada</th>\n      <td>North America</td>\n      <td>5</td>\n      <td>7.427</td>\n      <td>0.03553</td>\n      <td>1.32629</td>\n      <td>1.32261</td>\n      <td>0.90563</td>\n      <td>0.63297</td>\n      <td>0.32957</td>\n      <td>0.45811</td>\n      <td>2.45176</td>\n    </tr>\n  </tbody>\n</table>\n</div>"
     },
     "metadata": {},
     "execution_count": 496
    }
   ],
   "source": [
    "df_happiness_15.head()"
   ]
  },
  {
   "cell_type": "code",
   "execution_count": 497,
   "metadata": {},
   "outputs": [
    {
     "output_type": "execute_result",
     "data": {
      "text/plain": [
       "                     Region  Happiness Rank  Happiness Score  \\\n",
       "Country                                                        \n",
       "Denmark      Western Europe               1            7.526   \n",
       "Switzerland  Western Europe               2            7.509   \n",
       "Iceland      Western Europe               3            7.501   \n",
       "Norway       Western Europe               4            7.498   \n",
       "Finland      Western Europe               5            7.413   \n",
       "\n",
       "             Lower Confidence Interval  Upper Confidence Interval  \\\n",
       "Country                                                             \n",
       "Denmark                          7.460                      7.592   \n",
       "Switzerland                      7.428                      7.590   \n",
       "Iceland                          7.333                      7.669   \n",
       "Norway                           7.421                      7.575   \n",
       "Finland                          7.351                      7.475   \n",
       "\n",
       "             Economy (GDP per Capita)   Family  Health (Life Expectancy)  \\\n",
       "Country                                                                    \n",
       "Denmark                       1.44178  1.16374                   0.79504   \n",
       "Switzerland                   1.52733  1.14524                   0.86303   \n",
       "Iceland                       1.42666  1.18326                   0.86733   \n",
       "Norway                        1.57744  1.12690                   0.79579   \n",
       "Finland                       1.40598  1.13464                   0.81091   \n",
       "\n",
       "             Freedom  Trust (Government Corruption)  Generosity  \\\n",
       "Country                                                           \n",
       "Denmark      0.57941                        0.44453     0.36171   \n",
       "Switzerland  0.58557                        0.41203     0.28083   \n",
       "Iceland      0.56624                        0.14975     0.47678   \n",
       "Norway       0.59609                        0.35776     0.37895   \n",
       "Finland      0.57104                        0.41004     0.25492   \n",
       "\n",
       "             Dystopia Residual  \n",
       "Country                         \n",
       "Denmark                2.73939  \n",
       "Switzerland            2.69463  \n",
       "Iceland                2.83137  \n",
       "Norway                 2.66465  \n",
       "Finland                2.82596  "
      ],
      "text/html": "<div>\n<style scoped>\n    .dataframe tbody tr th:only-of-type {\n        vertical-align: middle;\n    }\n\n    .dataframe tbody tr th {\n        vertical-align: top;\n    }\n\n    .dataframe thead th {\n        text-align: right;\n    }\n</style>\n<table border=\"1\" class=\"dataframe\">\n  <thead>\n    <tr style=\"text-align: right;\">\n      <th></th>\n      <th>Region</th>\n      <th>Happiness Rank</th>\n      <th>Happiness Score</th>\n      <th>Lower Confidence Interval</th>\n      <th>Upper Confidence Interval</th>\n      <th>Economy (GDP per Capita)</th>\n      <th>Family</th>\n      <th>Health (Life Expectancy)</th>\n      <th>Freedom</th>\n      <th>Trust (Government Corruption)</th>\n      <th>Generosity</th>\n      <th>Dystopia Residual</th>\n    </tr>\n    <tr>\n      <th>Country</th>\n      <th></th>\n      <th></th>\n      <th></th>\n      <th></th>\n      <th></th>\n      <th></th>\n      <th></th>\n      <th></th>\n      <th></th>\n      <th></th>\n      <th></th>\n      <th></th>\n    </tr>\n  </thead>\n  <tbody>\n    <tr>\n      <th>Denmark</th>\n      <td>Western Europe</td>\n      <td>1</td>\n      <td>7.526</td>\n      <td>7.460</td>\n      <td>7.592</td>\n      <td>1.44178</td>\n      <td>1.16374</td>\n      <td>0.79504</td>\n      <td>0.57941</td>\n      <td>0.44453</td>\n      <td>0.36171</td>\n      <td>2.73939</td>\n    </tr>\n    <tr>\n      <th>Switzerland</th>\n      <td>Western Europe</td>\n      <td>2</td>\n      <td>7.509</td>\n      <td>7.428</td>\n      <td>7.590</td>\n      <td>1.52733</td>\n      <td>1.14524</td>\n      <td>0.86303</td>\n      <td>0.58557</td>\n      <td>0.41203</td>\n      <td>0.28083</td>\n      <td>2.69463</td>\n    </tr>\n    <tr>\n      <th>Iceland</th>\n      <td>Western Europe</td>\n      <td>3</td>\n      <td>7.501</td>\n      <td>7.333</td>\n      <td>7.669</td>\n      <td>1.42666</td>\n      <td>1.18326</td>\n      <td>0.86733</td>\n      <td>0.56624</td>\n      <td>0.14975</td>\n      <td>0.47678</td>\n      <td>2.83137</td>\n    </tr>\n    <tr>\n      <th>Norway</th>\n      <td>Western Europe</td>\n      <td>4</td>\n      <td>7.498</td>\n      <td>7.421</td>\n      <td>7.575</td>\n      <td>1.57744</td>\n      <td>1.12690</td>\n      <td>0.79579</td>\n      <td>0.59609</td>\n      <td>0.35776</td>\n      <td>0.37895</td>\n      <td>2.66465</td>\n    </tr>\n    <tr>\n      <th>Finland</th>\n      <td>Western Europe</td>\n      <td>5</td>\n      <td>7.413</td>\n      <td>7.351</td>\n      <td>7.475</td>\n      <td>1.40598</td>\n      <td>1.13464</td>\n      <td>0.81091</td>\n      <td>0.57104</td>\n      <td>0.41004</td>\n      <td>0.25492</td>\n      <td>2.82596</td>\n    </tr>\n  </tbody>\n</table>\n</div>"
     },
     "metadata": {},
     "execution_count": 497
    }
   ],
   "source": [
    "df_happiness_16.head()"
   ]
  },
  {
   "cell_type": "code",
   "execution_count": 498,
   "metadata": {},
   "outputs": [
    {
     "output_type": "execute_result",
     "data": {
      "text/plain": [
       "             Happiness.Rank  Happiness.Score  Whisker.high  Whisker.low  \\\n",
       "Country                                                                   \n",
       "Norway                    1            7.537      7.594445     7.479556   \n",
       "Denmark                   2            7.522      7.581728     7.462272   \n",
       "Iceland                   3            7.504      7.622030     7.385970   \n",
       "Switzerland               4            7.494      7.561772     7.426227   \n",
       "Finland                   5            7.469      7.527542     7.410458   \n",
       "\n",
       "             Economy..GDP.per.Capita.    Family  Health..Life.Expectancy.  \\\n",
       "Country                                                                     \n",
       "Norway                       1.616463  1.533524                  0.796667   \n",
       "Denmark                      1.482383  1.551122                  0.792566   \n",
       "Iceland                      1.480633  1.610574                  0.833552   \n",
       "Switzerland                  1.564980  1.516912                  0.858131   \n",
       "Finland                      1.443572  1.540247                  0.809158   \n",
       "\n",
       "              Freedom  Generosity  Trust..Government.Corruption.  \\\n",
       "Country                                                            \n",
       "Norway       0.635423    0.362012                       0.315964   \n",
       "Denmark      0.626007    0.355280                       0.400770   \n",
       "Iceland      0.627163    0.475540                       0.153527   \n",
       "Switzerland  0.620071    0.290549                       0.367007   \n",
       "Finland      0.617951    0.245483                       0.382612   \n",
       "\n",
       "             Dystopia.Residual  \n",
       "Country                         \n",
       "Norway                2.277027  \n",
       "Denmark               2.313707  \n",
       "Iceland               2.322715  \n",
       "Switzerland           2.276716  \n",
       "Finland               2.430182  "
      ],
      "text/html": "<div>\n<style scoped>\n    .dataframe tbody tr th:only-of-type {\n        vertical-align: middle;\n    }\n\n    .dataframe tbody tr th {\n        vertical-align: top;\n    }\n\n    .dataframe thead th {\n        text-align: right;\n    }\n</style>\n<table border=\"1\" class=\"dataframe\">\n  <thead>\n    <tr style=\"text-align: right;\">\n      <th></th>\n      <th>Happiness.Rank</th>\n      <th>Happiness.Score</th>\n      <th>Whisker.high</th>\n      <th>Whisker.low</th>\n      <th>Economy..GDP.per.Capita.</th>\n      <th>Family</th>\n      <th>Health..Life.Expectancy.</th>\n      <th>Freedom</th>\n      <th>Generosity</th>\n      <th>Trust..Government.Corruption.</th>\n      <th>Dystopia.Residual</th>\n    </tr>\n    <tr>\n      <th>Country</th>\n      <th></th>\n      <th></th>\n      <th></th>\n      <th></th>\n      <th></th>\n      <th></th>\n      <th></th>\n      <th></th>\n      <th></th>\n      <th></th>\n      <th></th>\n    </tr>\n  </thead>\n  <tbody>\n    <tr>\n      <th>Norway</th>\n      <td>1</td>\n      <td>7.537</td>\n      <td>7.594445</td>\n      <td>7.479556</td>\n      <td>1.616463</td>\n      <td>1.533524</td>\n      <td>0.796667</td>\n      <td>0.635423</td>\n      <td>0.362012</td>\n      <td>0.315964</td>\n      <td>2.277027</td>\n    </tr>\n    <tr>\n      <th>Denmark</th>\n      <td>2</td>\n      <td>7.522</td>\n      <td>7.581728</td>\n      <td>7.462272</td>\n      <td>1.482383</td>\n      <td>1.551122</td>\n      <td>0.792566</td>\n      <td>0.626007</td>\n      <td>0.355280</td>\n      <td>0.400770</td>\n      <td>2.313707</td>\n    </tr>\n    <tr>\n      <th>Iceland</th>\n      <td>3</td>\n      <td>7.504</td>\n      <td>7.622030</td>\n      <td>7.385970</td>\n      <td>1.480633</td>\n      <td>1.610574</td>\n      <td>0.833552</td>\n      <td>0.627163</td>\n      <td>0.475540</td>\n      <td>0.153527</td>\n      <td>2.322715</td>\n    </tr>\n    <tr>\n      <th>Switzerland</th>\n      <td>4</td>\n      <td>7.494</td>\n      <td>7.561772</td>\n      <td>7.426227</td>\n      <td>1.564980</td>\n      <td>1.516912</td>\n      <td>0.858131</td>\n      <td>0.620071</td>\n      <td>0.290549</td>\n      <td>0.367007</td>\n      <td>2.276716</td>\n    </tr>\n    <tr>\n      <th>Finland</th>\n      <td>5</td>\n      <td>7.469</td>\n      <td>7.527542</td>\n      <td>7.410458</td>\n      <td>1.443572</td>\n      <td>1.540247</td>\n      <td>0.809158</td>\n      <td>0.617951</td>\n      <td>0.245483</td>\n      <td>0.382612</td>\n      <td>2.430182</td>\n    </tr>\n  </tbody>\n</table>\n</div>"
     },
     "metadata": {},
     "execution_count": 498
    }
   ],
   "source": [
    "df_happiness_17.head()"
   ]
  },
  {
   "cell_type": "code",
   "execution_count": 499,
   "metadata": {},
   "outputs": [
    {
     "output_type": "execute_result",
     "data": {
      "text/plain": [
       "             Country or region  Score  GDP per capita  Social support  \\\n",
       "Overall rank                                                            \n",
       "1                      Finland  7.632           1.305           1.592   \n",
       "2                       Norway  7.594           1.456           1.582   \n",
       "3                      Denmark  7.555           1.351           1.590   \n",
       "4                      Iceland  7.495           1.343           1.644   \n",
       "5                  Switzerland  7.487           1.420           1.549   \n",
       "\n",
       "              Healthy life expectancy  Freedom to make life choices  \\\n",
       "Overall rank                                                          \n",
       "1                               0.874                         0.681   \n",
       "2                               0.861                         0.686   \n",
       "3                               0.868                         0.683   \n",
       "4                               0.914                         0.677   \n",
       "5                               0.927                         0.660   \n",
       "\n",
       "              Generosity  Perceptions of corruption  \n",
       "Overall rank                                         \n",
       "1                  0.202                      0.393  \n",
       "2                  0.286                      0.340  \n",
       "3                  0.284                      0.408  \n",
       "4                  0.353                      0.138  \n",
       "5                  0.256                      0.357  "
      ],
      "text/html": "<div>\n<style scoped>\n    .dataframe tbody tr th:only-of-type {\n        vertical-align: middle;\n    }\n\n    .dataframe tbody tr th {\n        vertical-align: top;\n    }\n\n    .dataframe thead th {\n        text-align: right;\n    }\n</style>\n<table border=\"1\" class=\"dataframe\">\n  <thead>\n    <tr style=\"text-align: right;\">\n      <th></th>\n      <th>Country or region</th>\n      <th>Score</th>\n      <th>GDP per capita</th>\n      <th>Social support</th>\n      <th>Healthy life expectancy</th>\n      <th>Freedom to make life choices</th>\n      <th>Generosity</th>\n      <th>Perceptions of corruption</th>\n    </tr>\n    <tr>\n      <th>Overall rank</th>\n      <th></th>\n      <th></th>\n      <th></th>\n      <th></th>\n      <th></th>\n      <th></th>\n      <th></th>\n      <th></th>\n    </tr>\n  </thead>\n  <tbody>\n    <tr>\n      <th>1</th>\n      <td>Finland</td>\n      <td>7.632</td>\n      <td>1.305</td>\n      <td>1.592</td>\n      <td>0.874</td>\n      <td>0.681</td>\n      <td>0.202</td>\n      <td>0.393</td>\n    </tr>\n    <tr>\n      <th>2</th>\n      <td>Norway</td>\n      <td>7.594</td>\n      <td>1.456</td>\n      <td>1.582</td>\n      <td>0.861</td>\n      <td>0.686</td>\n      <td>0.286</td>\n      <td>0.340</td>\n    </tr>\n    <tr>\n      <th>3</th>\n      <td>Denmark</td>\n      <td>7.555</td>\n      <td>1.351</td>\n      <td>1.590</td>\n      <td>0.868</td>\n      <td>0.683</td>\n      <td>0.284</td>\n      <td>0.408</td>\n    </tr>\n    <tr>\n      <th>4</th>\n      <td>Iceland</td>\n      <td>7.495</td>\n      <td>1.343</td>\n      <td>1.644</td>\n      <td>0.914</td>\n      <td>0.677</td>\n      <td>0.353</td>\n      <td>0.138</td>\n    </tr>\n    <tr>\n      <th>5</th>\n      <td>Switzerland</td>\n      <td>7.487</td>\n      <td>1.420</td>\n      <td>1.549</td>\n      <td>0.927</td>\n      <td>0.660</td>\n      <td>0.256</td>\n      <td>0.357</td>\n    </tr>\n  </tbody>\n</table>\n</div>"
     },
     "metadata": {},
     "execution_count": 499
    }
   ],
   "source": [
    "df_happiness_18.head()"
   ]
  },
  {
   "cell_type": "code",
   "execution_count": 500,
   "metadata": {},
   "outputs": [
    {
     "output_type": "execute_result",
     "data": {
      "text/plain": [
       "             Country or region  Score  GDP per capita  Social support  \\\n",
       "Overall rank                                                            \n",
       "1                      Finland  7.769           1.340           1.587   \n",
       "2                      Denmark  7.600           1.383           1.573   \n",
       "3                       Norway  7.554           1.488           1.582   \n",
       "4                      Iceland  7.494           1.380           1.624   \n",
       "5                  Netherlands  7.488           1.396           1.522   \n",
       "\n",
       "              Healthy life expectancy  Freedom to make life choices  \\\n",
       "Overall rank                                                          \n",
       "1                               0.986                         0.596   \n",
       "2                               0.996                         0.592   \n",
       "3                               1.028                         0.603   \n",
       "4                               1.026                         0.591   \n",
       "5                               0.999                         0.557   \n",
       "\n",
       "              Generosity  Perceptions of corruption  \n",
       "Overall rank                                         \n",
       "1                  0.153                      0.393  \n",
       "2                  0.252                      0.410  \n",
       "3                  0.271                      0.341  \n",
       "4                  0.354                      0.118  \n",
       "5                  0.322                      0.298  "
      ],
      "text/html": "<div>\n<style scoped>\n    .dataframe tbody tr th:only-of-type {\n        vertical-align: middle;\n    }\n\n    .dataframe tbody tr th {\n        vertical-align: top;\n    }\n\n    .dataframe thead th {\n        text-align: right;\n    }\n</style>\n<table border=\"1\" class=\"dataframe\">\n  <thead>\n    <tr style=\"text-align: right;\">\n      <th></th>\n      <th>Country or region</th>\n      <th>Score</th>\n      <th>GDP per capita</th>\n      <th>Social support</th>\n      <th>Healthy life expectancy</th>\n      <th>Freedom to make life choices</th>\n      <th>Generosity</th>\n      <th>Perceptions of corruption</th>\n    </tr>\n    <tr>\n      <th>Overall rank</th>\n      <th></th>\n      <th></th>\n      <th></th>\n      <th></th>\n      <th></th>\n      <th></th>\n      <th></th>\n      <th></th>\n    </tr>\n  </thead>\n  <tbody>\n    <tr>\n      <th>1</th>\n      <td>Finland</td>\n      <td>7.769</td>\n      <td>1.340</td>\n      <td>1.587</td>\n      <td>0.986</td>\n      <td>0.596</td>\n      <td>0.153</td>\n      <td>0.393</td>\n    </tr>\n    <tr>\n      <th>2</th>\n      <td>Denmark</td>\n      <td>7.600</td>\n      <td>1.383</td>\n      <td>1.573</td>\n      <td>0.996</td>\n      <td>0.592</td>\n      <td>0.252</td>\n      <td>0.410</td>\n    </tr>\n    <tr>\n      <th>3</th>\n      <td>Norway</td>\n      <td>7.554</td>\n      <td>1.488</td>\n      <td>1.582</td>\n      <td>1.028</td>\n      <td>0.603</td>\n      <td>0.271</td>\n      <td>0.341</td>\n    </tr>\n    <tr>\n      <th>4</th>\n      <td>Iceland</td>\n      <td>7.494</td>\n      <td>1.380</td>\n      <td>1.624</td>\n      <td>1.026</td>\n      <td>0.591</td>\n      <td>0.354</td>\n      <td>0.118</td>\n    </tr>\n    <tr>\n      <th>5</th>\n      <td>Netherlands</td>\n      <td>7.488</td>\n      <td>1.396</td>\n      <td>1.522</td>\n      <td>0.999</td>\n      <td>0.557</td>\n      <td>0.322</td>\n      <td>0.298</td>\n    </tr>\n  </tbody>\n</table>\n</div>"
     },
     "metadata": {},
     "execution_count": 500
    }
   ],
   "source": [
    "df_happiness_19.head()"
   ]
  },
  {
   "source": [
    "### Check if column \"Country or Region \"in tables 2018 & 2019 actually contains any region"
   ],
   "cell_type": "markdown",
   "metadata": {}
  },
  {
   "cell_type": "code",
   "execution_count": 501,
   "metadata": {},
   "outputs": [],
   "source": [
    "def isThereRegionsInCountryNames(df, df_country):\n",
    "    \n",
    "    # number of entities that has region name instead of country name \n",
    "    happinesRegionsCount= len(set(df[\"Country or region\"].unique()).intersection(set(df_country[\"region\"].unique())))   \n",
    "    \n",
    "    # number of entities that has subregion name instead of country name\n",
    "    happinesSubRegionsCount= len(set(df[\"Country or region\"].unique()).intersection(set(df_country[\"subregion\"].unique())))\n",
    "    \n",
    "\n",
    "    if(happinesRegionsCount>0):\n",
    "        print(\"Happiness 18 table has regions instead of countries\")\n",
    "        return True\n",
    "    if(happinesSubRegionsCount>0):\n",
    "        print(\"Happiness 18 table has subregions instead of countries\")\n",
    "        return True\n",
    "    \n",
    "    return False\n",
    "    "
   ]
  },
  {
   "cell_type": "code",
   "execution_count": 502,
   "metadata": {},
   "outputs": [
    {
     "output_type": "stream",
     "name": "stdout",
     "text": [
      "False\nFalse\n"
     ]
    }
   ],
   "source": [
    "print(isThereRegionsInCountryNames(df_happiness_18, df_country))\n",
    "print(isThereRegionsInCountryNames(df_happiness_19, df_country))"
   ]
  },
  {
   "source": [
    "## Rename columns to same name in the 5 tables"
   ],
   "cell_type": "markdown",
   "metadata": {}
  },
  {
   "cell_type": "code",
   "execution_count": 503,
   "metadata": {},
   "outputs": [],
   "source": [
    "\n",
    "# New names for common columns\n",
    "happinessRankName=\"HappinessRank\"\n",
    "happinessScoreName=\"HappinessScore\"\n",
    "gdpName=\"GDP\"\n",
    "lifeExpectancyName=\"LifeExpectancy\"\n",
    "freedomName=\"Freedom\"\n",
    "GenerosityName= \"Generosity\"\n",
    "trustName = \"Trust\"\n",
    "countryName = 'Country'\n",
    "yearName = \"Year\"\n",
    "\n",
    "# create new dataframe after renaming common columns\n",
    "df_happiness_15_mod = df_happiness_15.rename(columns={\"Country\":countryName,\"Happiness Rank\": happinessRankName, \"Happiness Score\":happinessScoreName, \"Economy (GDP per Capita)\" : gdpName, \"Health (Life Expectancy)\": lifeExpectancyName, \"Freedom\": freedomName, \"Trust (Government Corruption)\":trustName, \"Generosity\":GenerosityName})\n",
    "\n",
    "df_happiness_16_mod = df_happiness_16.rename(columns={\"Country\":countryName,\"Happiness Rank\": happinessRankName, \"Happiness Score\":happinessScoreName, \"Economy (GDP per Capita)\" : gdpName, \"Health (Life Expectancy)\": lifeExpectancyName, \"Freedom\": freedomName, \"Trust (Government Corruption)\":trustName, \"Generosity\":GenerosityName})\n",
    "\n",
    "df_happiness_17_mod = df_happiness_17.rename(columns={\"Country\":countryName,\"Happiness.Rank\": happinessRankName, \"Happiness.Score\":happinessScoreName,\"Economy..GDP.per.Capita.\":gdpName, \"Health..Life.Expectancy.\": lifeExpectancyName, \"Freedom\": freedomName, \"Trust..Government.Corruption.\":trustName, \"Generosity\":GenerosityName , \"Dystopia.Residual\":\"Dystopia Residual\"  })\n",
    "\n",
    "df_happiness_18_mod = df_happiness_18.rename(columns={\"Country or region\":countryName,\"Happiness Rank\": happinessRankName, \"Score\":happinessScoreName,  \"GDP per capita\" : gdpName, \"Healthy life expectancy\": lifeExpectancyName, \"Freedom to make life choices\": freedomName, \"Generosity\":GenerosityName})\n",
    "\n",
    "df_happiness_19_mod = df_happiness_19.rename(columns={\"Country or region\":countryName,\"Happiness Rank\": happinessRankName, \"Score\":happinessScoreName,  \"GDP per capita\" : gdpName, \"Healthy life expectancy\": lifeExpectancyName, \"Freedom to make life choices\": freedomName, \"Generosity\":GenerosityName})\n",
    "\n",
    "# tables 15, 16, 17 => country name exists in the table index\n",
    "# tables 18, 19 => happiness rank exists in the table index\n",
    "df_happiness_15_mod[countryName]=df_happiness_15_mod.index\n",
    "df_happiness_16_mod[countryName]=df_happiness_16_mod.index\n",
    "df_happiness_17_mod[countryName]=df_happiness_17_mod.index\n",
    "df_happiness_18_mod[happinessRankName]=df_happiness_18_mod.index\n",
    "df_happiness_19_mod[happinessRankName]=df_happiness_19_mod.index\n",
    "\n",
    "# add column year to every table\n",
    "df_happiness_15_mod[yearName] = 2015\n",
    "df_happiness_16_mod[yearName] = 2016\n",
    "df_happiness_17_mod[yearName] = 2017\n",
    "df_happiness_18_mod[yearName] = 2018\n",
    "df_happiness_19_mod[yearName] = 2019\n",
    "\n",
    "# arrange tables to have the same order of columns starting from the common columns\n",
    "df_happiness_15_mod = df_happiness_15_mod[[countryName, happinessRankName, happinessScoreName, gdpName, lifeExpectancyName, freedomName, GenerosityName,yearName ,\"Family\", \"Dystopia Residual\", 'Standard Error']]\n",
    "\n",
    "df_happiness_16_mod = df_happiness_16_mod[[countryName, happinessRankName, happinessScoreName, gdpName, lifeExpectancyName, freedomName, GenerosityName,yearName ,\"Family\", \"Dystopia Residual\", 'Lower Confidence Interval', 'Upper Confidence Interval']]\n",
    "\n",
    "df_happiness_17_mod = df_happiness_17_mod[[countryName, happinessRankName, happinessScoreName, gdpName, lifeExpectancyName, freedomName, GenerosityName,yearName ,\"Family\", \"Dystopia Residual\",'Whisker.low', 'Whisker.high' ]]\n",
    "\n",
    "df_happiness_18_mod = df_happiness_18_mod[[countryName, happinessRankName, happinessScoreName, gdpName, lifeExpectancyName, freedomName, GenerosityName,yearName ,'Perceptions of corruption', 'Social support' ]]\n",
    "\n",
    "df_happiness_19_mod = df_happiness_19_mod[[countryName, happinessRankName, happinessScoreName, gdpName, lifeExpectancyName, freedomName, GenerosityName,yearName ,'Perceptions of corruption', 'Social support' ]]\n",
    "\n"
   ]
  },
  {
   "cell_type": "code",
   "execution_count": 504,
   "metadata": {},
   "outputs": [],
   "source": [
    "\n",
    "# get common columns only from dataframes to append them\n",
    "df_happiness_15_common = df_happiness_15_mod.iloc[:, 0:8]\n",
    "df_happiness_16_common = df_happiness_16_mod.iloc[:, 0:8]\n",
    "df_happiness_17_common = df_happiness_17_mod.iloc[:, 0:8]\n",
    "df_happiness_18_common = df_happiness_18_mod.iloc[:, 0:8]\n",
    "df_happiness_19_common = df_happiness_19_mod.iloc[:, 0:8]\n",
    "\n",
    "# append dataframes to one dataframe\n",
    "df_happiness = df_happiness_15_common.append(df_happiness_16_common)\n",
    "df_happiness = df_happiness.append(df_happiness_17_common)\n",
    "df_happiness = df_happiness.append(df_happiness_18_common)\n",
    "df_happiness = df_happiness.append(df_happiness_19_common)"
   ]
  },
  {
   "cell_type": "code",
   "execution_count": 505,
   "metadata": {},
   "outputs": [
    {
     "output_type": "execute_result",
     "data": {
      "text/plain": [
       "       Country  HappinessRank  HappinessScore      GDP  LifeExpectancy  \\\n",
       "0  Switzerland              1           7.587  1.39651         0.94143   \n",
       "1      Iceland              2           7.561  1.30232         0.94784   \n",
       "2      Denmark              3           7.527  1.32548         0.87464   \n",
       "3       Norway              4           7.522  1.45900         0.88521   \n",
       "4       Canada              5           7.427  1.32629         0.90563   \n",
       "\n",
       "   Freedom  Generosity  Year  \n",
       "0  0.66557     0.29678  2015  \n",
       "1  0.62877     0.43630  2015  \n",
       "2  0.64938     0.34139  2015  \n",
       "3  0.66973     0.34699  2015  \n",
       "4  0.63297     0.45811  2015  "
      ],
      "text/html": "<div>\n<style scoped>\n    .dataframe tbody tr th:only-of-type {\n        vertical-align: middle;\n    }\n\n    .dataframe tbody tr th {\n        vertical-align: top;\n    }\n\n    .dataframe thead th {\n        text-align: right;\n    }\n</style>\n<table border=\"1\" class=\"dataframe\">\n  <thead>\n    <tr style=\"text-align: right;\">\n      <th></th>\n      <th>Country</th>\n      <th>HappinessRank</th>\n      <th>HappinessScore</th>\n      <th>GDP</th>\n      <th>LifeExpectancy</th>\n      <th>Freedom</th>\n      <th>Generosity</th>\n      <th>Year</th>\n    </tr>\n  </thead>\n  <tbody>\n    <tr>\n      <th>0</th>\n      <td>Switzerland</td>\n      <td>1</td>\n      <td>7.587</td>\n      <td>1.39651</td>\n      <td>0.94143</td>\n      <td>0.66557</td>\n      <td>0.29678</td>\n      <td>2015</td>\n    </tr>\n    <tr>\n      <th>1</th>\n      <td>Iceland</td>\n      <td>2</td>\n      <td>7.561</td>\n      <td>1.30232</td>\n      <td>0.94784</td>\n      <td>0.62877</td>\n      <td>0.43630</td>\n      <td>2015</td>\n    </tr>\n    <tr>\n      <th>2</th>\n      <td>Denmark</td>\n      <td>3</td>\n      <td>7.527</td>\n      <td>1.32548</td>\n      <td>0.87464</td>\n      <td>0.64938</td>\n      <td>0.34139</td>\n      <td>2015</td>\n    </tr>\n    <tr>\n      <th>3</th>\n      <td>Norway</td>\n      <td>4</td>\n      <td>7.522</td>\n      <td>1.45900</td>\n      <td>0.88521</td>\n      <td>0.66973</td>\n      <td>0.34699</td>\n      <td>2015</td>\n    </tr>\n    <tr>\n      <th>4</th>\n      <td>Canada</td>\n      <td>5</td>\n      <td>7.427</td>\n      <td>1.32629</td>\n      <td>0.90563</td>\n      <td>0.63297</td>\n      <td>0.45811</td>\n      <td>2015</td>\n    </tr>\n  </tbody>\n</table>\n</div>"
     },
     "metadata": {},
     "execution_count": 505
    }
   ],
   "source": [
    "df_happiness.reset_index(drop=True, inplace=True)\n",
    "df_happiness.head()\n"
   ]
  },
  {
   "source": [
    "## Countries in happiness table should have same notation as in the country table\n",
    "- clean names in country table\n",
    "- clean names in happiness table\n",
    "\n",
    "\n",
    "### Country table mapping\n",
    "----------------------\n",
    "- Bolivia (Plurinational State of)                ==> Bolivia\n",
    "- Cocos (Keeling) Islands                         ==> Cocos Islands\n",
    "- Congo                                           ==> Republic of the Congo\n",
    "- Congo (Democratic Republic of the)              ==> Democratic Republic of the Congo\n",
    "- Falkland Islands (Malvinas)                     ==> Falkland Islands\n",
    "- Iran (Islamic Republic of)\t                  ==> Iran\n",
    "- Korea (Democratic People's Republic of)         ==> North Korea\n",
    "- Korea (Republic of)\t                          ==> South Korea\n",
    "- Macedonia (the former Yugoslav Republic of)     ==> Macedonia\n",
    "- Micronesia (Federated States of)                ==> Micronesia\n",
    "- Moldova (Republic of)\t                          ==> Moldova\n",
    "- Saint Martin (French part)                      ==> Saint Martin\n",
    "- Venezuela (Bolivarian Republic of)\t          ==> Venezuela\n",
    "- Virgin Islands (British)                        ==> British Virgin Islands\n",
    "- Virgin Islands (U.S.)                           ==> U.S. Virgin Islands\n",
    "\n",
    "### Happines table mapping\n",
    "----------------------\n",
    "- Congo (Brazzaville)                             ==> Republic of the Congo\n",
    "- Congo (Kinshasa                                 ==> Democratic Republic of the Congo\n",
    "- Hong Kong S.A.R., China                         ==> China\n",
    "- Ivory Coast                                     ==> Côte d'Ivoire\n",
    "- Kosovo                                          ==> Republic of Kosovo\n",
    "- Laos                                            ==> Lao People's Democratic Republic\n",
    "- North Cyprus                                    ==> Cyprus\n",
    "- North Macedonia                                 ==> Macedonia\n",
    "- Northern Cyprus                                 ==> Cyprus\n",
    "- Russia                                          ==> Russian Federation\n",
    "- Somaliland Region                               ==> Somalia\n",
    "- Somaliland region                               ==> Somalia\n",
    "- Syria                                           ==> Syrian Arab Republic\n",
    "- Taiwan Province of China                        ==> China\n",
    "- Tanzania                                        ==> Tanzania\n",
    "- Trinidad & Tobago                               ==> Trinidad and Tobago\n",
    "- United Kingdom                                  ==> United Kingdom of Great Britain and Northern Ireland\n",
    "- United States                                   ==> United States of America\n",
    "- Vietnam                                         ==> Viet Nam\n"
   ],
   "cell_type": "markdown",
   "metadata": {}
  },
  {
   "cell_type": "code",
   "execution_count": 506,
   "metadata": {},
   "outputs": [],
   "source": [
    "\n",
    "#  clone country dataframe to apply the extraction of countries names on it and find these entries in the original dataframe \n",
    "#  (two countries can give same notation after removing parenthesis)\n",
    "df_countryClone = copy.deepcopy(df_country)\n",
    "\n",
    "# remove parentheses from every country name and then trim the country name\n",
    "df_countryClone[\"name\"] = df_countryClone[\"name\"].str.extract('(^[^\\(]+)',expand=False)\n",
    "df_countryClone = df_countryClone.applymap(lambda x: x.strip() if isinstance(x, str) else x)        #trim every country\n"
   ]
  },
  {
   "cell_type": "code",
   "execution_count": 507,
   "metadata": {},
   "outputs": [
    {
     "output_type": "execute_result",
     "data": {
      "text/plain": [
       "                                            name    region  \\\n",
       "165      Korea (Democratic People's Republic of)      Asia   \n",
       "210                          Korea (Republic of)      Asia   \n",
       "26              Bolivia (Plurinational State of)  Americas   \n",
       "34                      Virgin Islands (British)  Americas   \n",
       "35                         Virgin Islands (U.S.)  Americas   \n",
       "132  Macedonia (the former Yugoslav Republic of)    Europe   \n",
       "73                   Falkland Islands (Malvinas)  Americas   \n",
       "191                   Saint Martin (French part)  Americas   \n",
       "146                        Moldova (Republic of)    Europe   \n",
       "203                    Sint Maarten (Dutch part)  Americas   \n",
       "50                       Cocos (Keeling) Islands   Oceania   \n",
       "107                   Iran (Islamic Republic of)      Asia   \n",
       "145             Micronesia (Federated States of)   Oceania   \n",
       "243           Venezuela (Bolivarian Republic of)  Americas   \n",
       "\n",
       "                     subregion  population        area  gini  \\\n",
       "165               Eastern Asia    25281000   120538.00   NaN   \n",
       "210               Eastern Asia    50801405   100210.00  31.3   \n",
       "26               South America    10985059  1098581.00  56.3   \n",
       "34                   Caribbean       28514      151.00   NaN   \n",
       "35                   Caribbean      114743      346.36   NaN   \n",
       "132            Southern Europe     2058539    25713.00  43.2   \n",
       "73               South America        2563    12173.00   NaN   \n",
       "191                  Caribbean       36979       53.00   NaN   \n",
       "146             Eastern Europe     3553100    33846.00  33.0   \n",
       "203                  Caribbean       38247       34.00   NaN   \n",
       "50   Australia and New Zealand         550       14.00   NaN   \n",
       "107              Southern Asia    79369900  1648195.00  38.3   \n",
       "145                 Micronesia      102800      702.00   NaN   \n",
       "243              South America    31028700   916445.00  44.8   \n",
       "\n",
       "    Real Growth Rating(%) Literacy Rate(%) Inflation(%) Unemployement(%)  \n",
       "165                   NaN              NaN          NaN              NaN  \n",
       "210                   NaN              NaN          NaN              NaN  \n",
       "26                    NaN              NaN          NaN              NaN  \n",
       "34                    NaN              NaN          NaN              NaN  \n",
       "35                    NaN              NaN          NaN              NaN  \n",
       "132                   NaN              NaN          NaN              NaN  \n",
       "73                    NaN              NaN          NaN              NaN  \n",
       "191                   NaN              NaN          NaN              NaN  \n",
       "146                   NaN              NaN          NaN              NaN  \n",
       "203                   NaN              NaN          NaN              NaN  \n",
       "50                    NaN              NaN          NaN              NaN  \n",
       "107                   NaN              NaN          NaN              NaN  \n",
       "145                   NaN              NaN          NaN              NaN  \n",
       "243                   NaN              NaN          NaN              NaN  "
      ],
      "text/html": "<div>\n<style scoped>\n    .dataframe tbody tr th:only-of-type {\n        vertical-align: middle;\n    }\n\n    .dataframe tbody tr th {\n        vertical-align: top;\n    }\n\n    .dataframe thead th {\n        text-align: right;\n    }\n</style>\n<table border=\"1\" class=\"dataframe\">\n  <thead>\n    <tr style=\"text-align: right;\">\n      <th></th>\n      <th>name</th>\n      <th>region</th>\n      <th>subregion</th>\n      <th>population</th>\n      <th>area</th>\n      <th>gini</th>\n      <th>Real Growth Rating(%)</th>\n      <th>Literacy Rate(%)</th>\n      <th>Inflation(%)</th>\n      <th>Unemployement(%)</th>\n    </tr>\n  </thead>\n  <tbody>\n    <tr>\n      <th>165</th>\n      <td>Korea (Democratic People's Republic of)</td>\n      <td>Asia</td>\n      <td>Eastern Asia</td>\n      <td>25281000</td>\n      <td>120538.00</td>\n      <td>NaN</td>\n      <td>NaN</td>\n      <td>NaN</td>\n      <td>NaN</td>\n      <td>NaN</td>\n    </tr>\n    <tr>\n      <th>210</th>\n      <td>Korea (Republic of)</td>\n      <td>Asia</td>\n      <td>Eastern Asia</td>\n      <td>50801405</td>\n      <td>100210.00</td>\n      <td>31.3</td>\n      <td>NaN</td>\n      <td>NaN</td>\n      <td>NaN</td>\n      <td>NaN</td>\n    </tr>\n    <tr>\n      <th>26</th>\n      <td>Bolivia (Plurinational State of)</td>\n      <td>Americas</td>\n      <td>South America</td>\n      <td>10985059</td>\n      <td>1098581.00</td>\n      <td>56.3</td>\n      <td>NaN</td>\n      <td>NaN</td>\n      <td>NaN</td>\n      <td>NaN</td>\n    </tr>\n    <tr>\n      <th>34</th>\n      <td>Virgin Islands (British)</td>\n      <td>Americas</td>\n      <td>Caribbean</td>\n      <td>28514</td>\n      <td>151.00</td>\n      <td>NaN</td>\n      <td>NaN</td>\n      <td>NaN</td>\n      <td>NaN</td>\n      <td>NaN</td>\n    </tr>\n    <tr>\n      <th>35</th>\n      <td>Virgin Islands (U.S.)</td>\n      <td>Americas</td>\n      <td>Caribbean</td>\n      <td>114743</td>\n      <td>346.36</td>\n      <td>NaN</td>\n      <td>NaN</td>\n      <td>NaN</td>\n      <td>NaN</td>\n      <td>NaN</td>\n    </tr>\n    <tr>\n      <th>132</th>\n      <td>Macedonia (the former Yugoslav Republic of)</td>\n      <td>Europe</td>\n      <td>Southern Europe</td>\n      <td>2058539</td>\n      <td>25713.00</td>\n      <td>43.2</td>\n      <td>NaN</td>\n      <td>NaN</td>\n      <td>NaN</td>\n      <td>NaN</td>\n    </tr>\n    <tr>\n      <th>73</th>\n      <td>Falkland Islands (Malvinas)</td>\n      <td>Americas</td>\n      <td>South America</td>\n      <td>2563</td>\n      <td>12173.00</td>\n      <td>NaN</td>\n      <td>NaN</td>\n      <td>NaN</td>\n      <td>NaN</td>\n      <td>NaN</td>\n    </tr>\n    <tr>\n      <th>191</th>\n      <td>Saint Martin (French part)</td>\n      <td>Americas</td>\n      <td>Caribbean</td>\n      <td>36979</td>\n      <td>53.00</td>\n      <td>NaN</td>\n      <td>NaN</td>\n      <td>NaN</td>\n      <td>NaN</td>\n      <td>NaN</td>\n    </tr>\n    <tr>\n      <th>146</th>\n      <td>Moldova (Republic of)</td>\n      <td>Europe</td>\n      <td>Eastern Europe</td>\n      <td>3553100</td>\n      <td>33846.00</td>\n      <td>33.0</td>\n      <td>NaN</td>\n      <td>NaN</td>\n      <td>NaN</td>\n      <td>NaN</td>\n    </tr>\n    <tr>\n      <th>203</th>\n      <td>Sint Maarten (Dutch part)</td>\n      <td>Americas</td>\n      <td>Caribbean</td>\n      <td>38247</td>\n      <td>34.00</td>\n      <td>NaN</td>\n      <td>NaN</td>\n      <td>NaN</td>\n      <td>NaN</td>\n      <td>NaN</td>\n    </tr>\n    <tr>\n      <th>50</th>\n      <td>Cocos (Keeling) Islands</td>\n      <td>Oceania</td>\n      <td>Australia and New Zealand</td>\n      <td>550</td>\n      <td>14.00</td>\n      <td>NaN</td>\n      <td>NaN</td>\n      <td>NaN</td>\n      <td>NaN</td>\n      <td>NaN</td>\n    </tr>\n    <tr>\n      <th>107</th>\n      <td>Iran (Islamic Republic of)</td>\n      <td>Asia</td>\n      <td>Southern Asia</td>\n      <td>79369900</td>\n      <td>1648195.00</td>\n      <td>38.3</td>\n      <td>NaN</td>\n      <td>NaN</td>\n      <td>NaN</td>\n      <td>NaN</td>\n    </tr>\n    <tr>\n      <th>145</th>\n      <td>Micronesia (Federated States of)</td>\n      <td>Oceania</td>\n      <td>Micronesia</td>\n      <td>102800</td>\n      <td>702.00</td>\n      <td>NaN</td>\n      <td>NaN</td>\n      <td>NaN</td>\n      <td>NaN</td>\n      <td>NaN</td>\n    </tr>\n    <tr>\n      <th>243</th>\n      <td>Venezuela (Bolivarian Republic of)</td>\n      <td>Americas</td>\n      <td>South America</td>\n      <td>31028700</td>\n      <td>916445.00</td>\n      <td>44.8</td>\n      <td>NaN</td>\n      <td>NaN</td>\n      <td>NaN</td>\n      <td>NaN</td>\n    </tr>\n  </tbody>\n</table>\n</div>"
     },
     "metadata": {},
     "execution_count": 507
    }
   ],
   "source": [
    "'''\n",
    "to find countries that need to change their names, find the difference between the set of new names and set of old names,\n",
    "then get the row that matches ever country in the difference set from the old data frame (using masks)\n",
    "'''\n",
    "filteredCountries = set(df_countryClone[\"name\"].unique()) - set(df_country[\"name\"].unique())\n",
    "df_countriesToBeFiltered = pd.DataFrame()   \n",
    "for country in filteredCountries:\n",
    "    df_countriesToBeFiltered = df_countriesToBeFiltered.append(df_country[df_countryClone[\"name\"]==country])\n",
    "df_countriesToBeFiltered.head(50)"
   ]
  },
  {
   "cell_type": "code",
   "execution_count": 508,
   "metadata": {},
   "outputs": [],
   "source": [
    "# in case two countries have the same name without parentheses, google search is used to identify the country (by area) and get the real name\n",
    "df_countryMod = copy.deepcopy(df_country)\n",
    "df_countryMod.replace({\n",
    "                        \"Bolivia (Plurinational State of)\" : \"Bolivia\",\n",
    "                        \"Cocos (Keeling) Islands\" : \"Cocos Islands\",\n",
    "                        \"Congo\" : \"Republic of the Congo\",\n",
    "                        \"Congo (Democratic Republic of the)\" : \"Democratic Republic of the Congo\",\n",
    "                        \"Falkland Islands (Malvinas)\" : \"Falkland Islands\",\n",
    "                        \"Iran (Islamic Republic of)\" : \"Iran\",\n",
    "                        \"Korea (Democratic People's Republic of)\" : \"North Korea\",\n",
    "                        \"Korea (Republic of)\" : \"South Korea\",\n",
    "                        \"Macedonia (the former Yugoslav Republic of)\" : \"Macedonia\",\n",
    "                        \"Micronesia (Federated States of)\" : \"Micronesia\",\n",
    "                        \"Moldova (Republic of)\" : \"Moldova\",\n",
    "                        \"Saint Martin (French part)\" : \"Saint Martin\",\n",
    "                        \"Tanzania, United Republic of\":\"Tanzania\",\n",
    "                        \"Venezuela (Bolivarian Republic of)\" : \"Venezuela\",\n",
    "                        \"Virgin Islands (British)\" : \"British Virgin Islands\",\n",
    "                        \"Virgin Islands (U.S.)\" : \"U.S. Virgin Islands\"\n",
    "                        }, inplace=True)\n",
    "\n",
    "# Clean Data\n",
    "df_countryMod =df_countryMod[df_countryMod['name']!=\"Israel\"]"
   ]
  },
  {
   "source": [
    "get countries to be renamed in happiness table by getting the difference between happiness table countries and country names in the country table after modifications"
   ],
   "cell_type": "markdown",
   "metadata": {}
  },
  {
   "cell_type": "code",
   "execution_count": 509,
   "metadata": {},
   "outputs": [
    {
     "output_type": "execute_result",
     "data": {
      "text/plain": [
       "{'Congo (Brazzaville)',\n",
       " 'Congo (Kinshasa)',\n",
       " 'Hong Kong S.A.R., China',\n",
       " 'Israel',\n",
       " 'Ivory Coast',\n",
       " 'Kosovo',\n",
       " 'Laos',\n",
       " 'North Cyprus',\n",
       " 'North Macedonia',\n",
       " 'Northern Cyprus',\n",
       " 'Palestinian Territories',\n",
       " 'Russia',\n",
       " 'Somaliland Region',\n",
       " 'Somaliland region',\n",
       " 'Syria',\n",
       " 'Taiwan Province of China',\n",
       " 'Trinidad & Tobago',\n",
       " 'United Kingdom',\n",
       " 'United States',\n",
       " 'Vietnam'}"
      ]
     },
     "metadata": {},
     "execution_count": 509
    }
   ],
   "source": [
    "set(df_happiness[\"Country\"].unique()) - set(df_countryMod[\"name\"].unique())"
   ]
  },
  {
   "cell_type": "code",
   "execution_count": 510,
   "metadata": {},
   "outputs": [],
   "source": [
    "# rename\n",
    "df_happinessMod = copy.deepcopy(df_happiness)\n",
    "df_happinessMod.replace({\n",
    "                        'Congo (Brazzaville)': \"Republic of the Congo\",\n",
    "                        'Congo (Kinshasa)': \"Democratic Republic of the Congo\",\n",
    "                        'Hong Kong S.A.R., China':\"China\",\n",
    "                        'Ivory Coast':\"Côte d'Ivoire\",\n",
    "                        'Kosovo':\"Republic of Kosovo\",\n",
    "                        'Laos':\"Lao People's Democratic Republic\",\n",
    "                        'North Cyprus':\"Cyprus\",\n",
    "                        'North Macedonia':\"Macedonia\",\n",
    "                        'Northern Cyprus':\"Cyprus\",\n",
    "                        'Russia':\"Russian Federation\",\n",
    "                        'Somaliland Region':\"Somalia\",\n",
    "                        'Somaliland region':\"Somalia\",\n",
    "                        'Syria':\"Syrian Arab Republic\",\n",
    "                        'Taiwan Province of China':\"China\",\n",
    "                        'Tanzania':\"Tanzania\",\n",
    "                        'Trinidad & Tobago':\"Trinidad and Tobago\",\n",
    "                        'United Kingdom':\"United Kingdom of Great Britain and Northern Ireland\",\n",
    "                        'United States':\"United States of America\",\n",
    "                        'Vietnam':\"Viet Nam\"\n",
    "                        }, inplace=True)\n",
    "\n",
    "# Clean data\n",
    "df_happinessMod =df_happinessMod[df_happinessMod['Country']!=\"Palestinian Territories\"]\n",
    "df_happinessMod =df_happinessMod[df_happinessMod['Country']!=\"Israel\"]"
   ]
  },
  {
   "cell_type": "code",
   "execution_count": 511,
   "metadata": {},
   "outputs": [
    {
     "output_type": "stream",
     "name": "stdout",
     "text": [
      "Country names in happiness & country tables are consistent\n"
     ]
    }
   ],
   "source": [
    "# \n",
    "differentCountriesCount = len(set(df_happinessMod[\"Country\"].unique()) - set(df_countryMod[\"name\"].unique()))\n",
    "if differentCountriesCount>0:\n",
    "    print(\"different countries Still exist\")\n",
    "else:\n",
    "    print(\"Country names in happiness & country tables are consistent\")"
   ]
  },
  {
   "source": [
    "----\n",
    "## Save data to the disk to be used directly"
   ],
   "cell_type": "markdown",
   "metadata": {}
  },
  {
   "cell_type": "code",
   "execution_count": 514,
   "metadata": {},
   "outputs": [],
   "source": [
    "output_path= 'modified_dataset'\n",
    "if not os.path.exists(output_path):\n",
    "    os.makedirs(output_path)\n",
    "df_happinessMod.to_csv(os.path.join(output_path, 'Happiness_Common.csv'), index=False)\n",
    "df_countryMod.to_csv(os.path.join(output_path, 'Countries.csv'), index=False)"
   ]
  }
 ]
}